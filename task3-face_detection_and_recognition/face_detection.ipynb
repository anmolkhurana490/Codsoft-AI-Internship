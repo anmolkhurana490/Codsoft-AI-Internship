{
 "cells": [
  {
   "cell_type": "code",
   "execution_count": 1,
   "metadata": {},
   "outputs": [],
   "source": [
    "import os\n",
    "import cv2\n",
    "import mediapipe as mp"
   ]
  },
  {
   "cell_type": "code",
   "execution_count": 6,
   "metadata": {},
   "outputs": [],
   "source": [
    "face_detection=mp.solutions.face_detection.FaceDetection()"
   ]
  },
  {
   "cell_type": "markdown",
   "metadata": {},
   "source": [
    "Detecting Faces using Mediapipe and drawing Bouding Boxes for detections"
   ]
  },
  {
   "cell_type": "code",
   "execution_count": 3,
   "metadata": {},
   "outputs": [],
   "source": [
    "def detect_faces(frame):\n",
    "    height, width, _=frame.shape\n",
    "    results=face_detection.process(frame)\n",
    "\n",
    "    detected_faces=[]\n",
    "    if results.detections:\n",
    "        for detection in results.detections:\n",
    "            face_bounding=detection.location_data.relative_bounding_box\n",
    "            x=int(face_bounding.xmin * width)\n",
    "            y=int(face_bounding.ymin * height)\n",
    "            w=int(face_bounding.width * width)\n",
    "            h=int(face_bounding.height * height)\n",
    "            detected_faces.append((x,y,w,h))\n",
    "\n",
    "    return detected_faces\n"
   ]
  },
  {
   "cell_type": "code",
   "execution_count": 4,
   "metadata": {},
   "outputs": [],
   "source": [
    "def show_detected_faces(frame):\n",
    "    rgb_frame=cv2.cvtColor(frame, cv2.COLOR_BGR2RGB)\n",
    "    detected_faces=detect_faces(rgb_frame)\n",
    "    for face in detected_faces:\n",
    "        x, y, w, h=face\n",
    "        frame=cv2.rectangle(frame, (x, y), (x+w, y+h), (0,165,255))\n",
    "    return frame"
   ]
  },
  {
   "cell_type": "code",
   "execution_count": 25,
   "metadata": {},
   "outputs": [
    {
     "name": "stderr",
     "output_type": "stream",
     "text": [
      "C:\\Users\\hp\\AppData\\Local\\Packages\\PythonSoftwareFoundation.Python.3.12_qbz5n2kfra8p0\\LocalCache\\local-packages\\Python312\\site-packages\\google\\protobuf\\symbol_database.py:55: UserWarning: SymbolDatabase.GetPrototype() is deprecated. Please use message_factory.GetMessageClass() instead. SymbolDatabase.GetPrototype() will be removed soon.\n",
      "  warnings.warn('SymbolDatabase.GetPrototype() is deprecated. Please '\n"
     ]
    }
   ],
   "source": [
    "capture=cv2.VideoCapture(0)\n",
    "while(True):\n",
    "    ret, frame=capture.read()\n",
    "    frame=show_detected_faces(frame)\n",
    "    cv2.imshow(\"Face Detection\", frame)\n",
    "\n",
    "    if(cv2.waitKey(1) & 0xff==ord('q')):\n",
    "        break\n",
    "\n",
    "capture.release()\n",
    "cv2.destroyAllWindows()"
   ]
  },
  {
   "cell_type": "code",
   "execution_count": 8,
   "metadata": {},
   "outputs": [
    {
     "name": "stdout",
     "output_type": "stream",
     "text": [
      "invalid face - Amitabh Bachchan\n",
      "invalid face - Amitabh Bachchan\n",
      "invalid face - Amitabh Bachchan\n",
      "invalid face - Amitabh Bachchan\n",
      "invalid face - Deepika Padukone\n",
      "invalid face - Hema Malini\n",
      "invalid face - Rajkumar Rao\n",
      "invalid face - Rajkumar Rao\n",
      "invalid face - Sachin Tendulkar\n",
      "invalid face - Sachin Tendulkar\n",
      "invalid face - Salman Khan\n",
      "invalid face - Salman Khan\n",
      "invalid face - Shah Rukh Khan\n",
      "invalid face - Shah Rukh Khan\n"
     ]
    }
   ],
   "source": [
    "for celebrity in os.listdir(\"dataset/original images\"):\n",
    "    original_face_path=\"dataset/original images/\"+celebrity\n",
    "    cropped_face_path=\"dataset/cropped faces/\"+celebrity\n",
    "    if not os.path.exists(cropped_face_path):\n",
    "        os.mkdir(cropped_face_path)\n",
    "    \n",
    "    i=0\n",
    "    for file in os.listdir(original_face_path):\n",
    "        original_image_path=f\"{original_face_path}/{file}\"\n",
    "        try:\n",
    "            image=cv2.imread(original_image_path)\n",
    "        except:\n",
    "            print('invalid image -', celebrity)\n",
    "            \n",
    "        if image is None:\n",
    "            continue\n",
    "\n",
    "        detected_faces=detect_faces(image)\n",
    "        for face in detected_faces:\n",
    "            x, y, w, h=face\n",
    "            face_image=image[y:y+h, x:x+w]\n",
    "            try:\n",
    "                cv2.imwrite(f\"{cropped_face_path}/{i}.jpg\", face_image)\n",
    "            except:\n",
    "                print('invalid face -', celebrity)\n",
    "            i+=1"
   ]
  },
  {
   "cell_type": "code",
   "execution_count": null,
   "metadata": {},
   "outputs": [],
   "source": []
  }
 ],
 "metadata": {
  "kernelspec": {
   "display_name": "Python 3",
   "language": "python",
   "name": "python3"
  },
  "language_info": {
   "codemirror_mode": {
    "name": "ipython",
    "version": 3
   },
   "file_extension": ".py",
   "mimetype": "text/x-python",
   "name": "python",
   "nbconvert_exporter": "python",
   "pygments_lexer": "ipython3",
   "version": "3.12.5"
  }
 },
 "nbformat": 4,
 "nbformat_minor": 2
}

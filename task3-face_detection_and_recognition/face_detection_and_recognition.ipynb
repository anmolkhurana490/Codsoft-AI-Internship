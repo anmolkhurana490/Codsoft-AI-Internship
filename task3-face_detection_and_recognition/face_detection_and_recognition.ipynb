{
 "cells": [
  {
   "cell_type": "code",
   "execution_count": 1,
   "metadata": {},
   "outputs": [],
   "source": [
    "import cv2\n",
    "import pickle\n",
    "import pandas as pd\n",
    "import mediapipe as mp\n",
    "from keras_facenet import FaceNet\n",
    "from keras.models import load_model"
   ]
  },
  {
   "cell_type": "code",
   "execution_count": 2,
   "metadata": {},
   "outputs": [],
   "source": [
    "def load_pickle_model(filename):\n",
    "    with open(filename, 'rb') as file:\n",
    "        model=pickle.load(file)\n",
    "    return model"
   ]
  },
  {
   "cell_type": "code",
   "execution_count": 3,
   "metadata": {},
   "outputs": [
    {
     "name": "stdout",
     "output_type": "stream",
     "text": [
      "WARNING:tensorflow:From C:\\Users\\hp\\AppData\\Local\\Packages\\PythonSoftwareFoundation.Python.3.12_qbz5n2kfra8p0\\LocalCache\\local-packages\\Python312\\site-packages\\keras\\src\\backend\\tensorflow\\core.py:204: The name tf.placeholder is deprecated. Please use tf.compat.v1.placeholder instead.\n",
      "\n"
     ]
    }
   ],
   "source": [
    "face_detection=mp.solutions.face_detection.FaceDetection()\n",
    "facenet_embedder=FaceNet()"
   ]
  },
  {
   "cell_type": "code",
   "execution_count": 4,
   "metadata": {},
   "outputs": [],
   "source": [
    "face_recognition_model=load_model('models/face_recognition.keras')\n",
    "label_encoder=load_pickle_model('models/label_encoder.pickle')"
   ]
  },
  {
   "cell_type": "code",
   "execution_count": 5,
   "metadata": {},
   "outputs": [],
   "source": [
    "def detect_faces(frame):\n",
    "    height, width, _=frame.shape\n",
    "    results=face_detection.process(frame)\n",
    "\n",
    "    detected_faces=[]\n",
    "    if results.detections:\n",
    "        for detection in results.detections:\n",
    "            face_bounding=detection.location_data.relative_bounding_box\n",
    "            x=int(face_bounding.xmin * width)\n",
    "            y=int(face_bounding.ymin * height)\n",
    "            w=int(face_bounding.width * width)\n",
    "            h=int(face_bounding.height * height)\n",
    "            detected_faces.append((x,y,w,h))\n",
    "\n",
    "    return detected_faces"
   ]
  },
  {
   "cell_type": "code",
   "execution_count": 6,
   "metadata": {},
   "outputs": [],
   "source": [
    "def predict_face_names(image):\n",
    "    embedded_image=facenet_embedder.embeddings([image])\n",
    "    pred_prob=face_recognition_model.predict(embedded_image)\n",
    "    ypred=pred_prob.argmax(axis=1)\n",
    "    prob=pred_prob[0, ypred[0]]\n",
    "    return label_encoder.inverse_transform(ypred)[0], int(round(prob,2)*100)"
   ]
  },
  {
   "cell_type": "code",
   "execution_count": 7,
   "metadata": {},
   "outputs": [],
   "source": [
    "def show_faces_recognised(frame, face_list, probab_list):\n",
    "    rgb_frame=cv2.cvtColor(frame, cv2.COLOR_BGR2RGB)\n",
    "    detected_faces=detect_faces(rgb_frame)\n",
    "    for face in detected_faces:\n",
    "        x, y, w, h=face\n",
    "        cropped_face=rgb_frame[y:y+h, x:x+w]\n",
    "        predicted_name, prob=predict_face_names(cropped_face)\n",
    "        face_list.append(predicted_name)\n",
    "        probab_list.append(prob)\n",
    "        frame=cv2.rectangle(frame, (x, y), (x+w, y+h), (0,165,255))\n",
    "        frame=cv2.putText(frame, f\"{predicted_name} ({prob}%)\", (x, y), fontFace=cv2.FONT_HERSHEY_PLAIN, fontScale=1.2, color=(0,0,0))\n",
    "    return frame"
   ]
  },
  {
   "cell_type": "code",
   "execution_count": null,
   "metadata": {},
   "outputs": [],
   "source": [
    "frame_count=0\n",
    "frame_skip=7\n",
    "faces_list=[]\n",
    "probab_list=[]\n",
    "capture=cv2.VideoCapture(\"dataset/video_Big B and SRK.mp4\")\n",
    "while(True):\n",
    "    ret, frame=capture.read()\n",
    "    frame=cv2.resize(frame, (640,400))\n",
    "    if frame_count%frame_skip != 0:\n",
    "        frame=show_faces_recognised(frame, faces_list, probab_list)\n",
    "    cv2.imshow(\"Face Detection\", frame)\n",
    "    frame_count+=1\n",
    "    if(cv2.waitKey(1) & 0xff==ord('q')):\n",
    "        break\n",
    "\n",
    "capture.release()\n",
    "cv2.destroyAllWindows()\n",
    "print(frame_count, frame_skip)"
   ]
  },
  {
   "cell_type": "code",
   "execution_count": 10,
   "metadata": {},
   "outputs": [
    {
     "data": {
      "text/html": [
       "<div>\n",
       "<style scoped>\n",
       "    .dataframe tbody tr th:only-of-type {\n",
       "        vertical-align: middle;\n",
       "    }\n",
       "\n",
       "    .dataframe tbody tr th {\n",
       "        vertical-align: top;\n",
       "    }\n",
       "\n",
       "    .dataframe thead th {\n",
       "        text-align: right;\n",
       "    }\n",
       "</style>\n",
       "<table border=\"1\" class=\"dataframe\">\n",
       "  <thead>\n",
       "    <tr style=\"text-align: right;\">\n",
       "      <th></th>\n",
       "      <th>probab</th>\n",
       "    </tr>\n",
       "    <tr>\n",
       "      <th>name</th>\n",
       "      <th></th>\n",
       "    </tr>\n",
       "  </thead>\n",
       "  <tbody>\n",
       "    <tr>\n",
       "      <th>Amitabh Bachchan</th>\n",
       "      <td>100.0</td>\n",
       "    </tr>\n",
       "    <tr>\n",
       "      <th>Shah Rukh Khan</th>\n",
       "      <td>100.0</td>\n",
       "    </tr>\n",
       "  </tbody>\n",
       "</table>\n",
       "</div>"
      ],
      "text/plain": [
       "                  probab\n",
       "name                    \n",
       "Amitabh Bachchan   100.0\n",
       "Shah Rukh Khan     100.0"
      ]
     },
     "execution_count": 10,
     "metadata": {},
     "output_type": "execute_result"
    }
   ],
   "source": [
    "recognised_data=pd.DataFrame({'name': faces_list, 'probab': probab_list})\n",
    "recognised_data.groupby('name').mean()"
   ]
  },
  {
   "cell_type": "code",
   "execution_count": null,
   "metadata": {},
   "outputs": [],
   "source": []
  }
 ],
 "metadata": {
  "kernelspec": {
   "display_name": "Python 3",
   "language": "python",
   "name": "python3"
  },
  "language_info": {
   "codemirror_mode": {
    "name": "ipython",
    "version": 3
   },
   "file_extension": ".py",
   "mimetype": "text/x-python",
   "name": "python",
   "nbconvert_exporter": "python",
   "pygments_lexer": "ipython3",
   "version": "3.12.5"
  }
 },
 "nbformat": 4,
 "nbformat_minor": 2
}

{
 "cells": [
  {
   "cell_type": "code",
   "execution_count": 1,
   "metadata": {},
   "outputs": [],
   "source": [
    "from keras.models import load_model\n",
    "from PIL import Image\n",
    "import matplotlib.pyplot as plt\n",
    "import numpy as np\n",
    "import pickle"
   ]
  },
  {
   "cell_type": "code",
   "execution_count": 2,
   "metadata": {},
   "outputs": [],
   "source": [
    "def load_pickle_model(filename):\n",
    "    with open(filename, 'rb') as file:\n",
    "        model=pickle.load(file)\n",
    "    return model"
   ]
  },
  {
   "cell_type": "code",
   "execution_count": 3,
   "metadata": {},
   "outputs": [],
   "source": [
    "# extract features of given image\n",
    "def extract_features(model, image):\n",
    "    image=image.resize((299,299))\n",
    "    image=np.expand_dims(image, axis=0)\n",
    "    image=image/255\n",
    "    feature=model.predict(image)\n",
    "    return feature"
   ]
  },
  {
   "cell_type": "code",
   "execution_count": 4,
   "metadata": {},
   "outputs": [],
   "source": [
    "# generate description of given image\n",
    "def generate_description(model, tokenizer, features, max_length):\n",
    "    in_text=\"\"\n",
    "    sequence=np.zeros((1,max_length))\n",
    "    for i in range(max_length):\n",
    "        pred=model.predict([[features, sequence]], verbose=0)\n",
    "        token=np.argmax(pred)\n",
    "        word=tokenizer.index_word.get(token)\n",
    "        sequence[0][i]=token\n",
    "\n",
    "        if(not word):\n",
    "            break\n",
    "        in_text+=\" \"+word\n",
    "        if(word==\"endseq\"):\n",
    "            break\n",
    "\n",
    "    in_text=in_text.replace(\"startseq\", \"\")\n",
    "    in_text=in_text.replace(\"endseq\", \"\")\n",
    "\n",
    "    return in_text"
   ]
  },
  {
   "cell_type": "code",
   "execution_count": 5,
   "metadata": {},
   "outputs": [],
   "source": [
    "xception_model=load_pickle_model(\"data_models/xception_model.pickle\")\n",
    "main_model=load_model(\"data_models/image_captioning_model.keras\")"
   ]
  },
  {
   "cell_type": "code",
   "execution_count": 6,
   "metadata": {},
   "outputs": [],
   "source": [
    "tokenizer=load_pickle_model(\"data_models/tokenizer.pickle\")\n",
    "vocab_size=len(tokenizer.word_index)+1\n",
    "max_length=186"
   ]
  },
  {
   "cell_type": "markdown",
   "metadata": {},
   "source": [
    "Generating Caption"
   ]
  },
  {
   "cell_type": "code",
   "execution_count": 7,
   "metadata": {},
   "outputs": [],
   "source": [
    "def generate_image_caption(image_path):\n",
    "    try:\n",
    "        image=Image.open(image_path)\n",
    "    except:\n",
    "        print(\"Invalid Image!\")\n",
    "        return None, None\n",
    "\n",
    "    print(\"Extracting Image Features...\")\n",
    "    features=extract_features(xception_model, image)\n",
    "    print(\"Generating Image Caption\")\n",
    "    generated_desc=generate_description(main_model, tokenizer, features, max_length)\n",
    "    return image, generated_desc"
   ]
  },
  {
   "cell_type": "code",
   "execution_count": 8,
   "metadata": {},
   "outputs": [],
   "source": [
    "def show_image_caption(filename):\n",
    "    image, generated_desc=generate_image_caption(filename)\n",
    "\n",
    "    if(image):\n",
    "        plt.title(\"Image Caption: \"+generated_desc)\n",
    "        plt.axis('off')\n",
    "        plt.imshow(image, )"
   ]
  },
  {
   "cell_type": "code",
   "execution_count": null,
   "metadata": {},
   "outputs": [],
   "source": [
    "filename=\"Flickr8k_Dataset/Flicker8k_images/47870024_73a4481f7d.jpg\"\n",
    "show_image_caption(filename)"
   ]
  },
  {
   "cell_type": "code",
   "execution_count": null,
   "metadata": {},
   "outputs": [],
   "source": [
    "filename=\"Flickr8k_Dataset/Flicker8k_images/3515904775_f8acc5909e.jpg\"\n",
    "show_image_caption(filename)"
   ]
  },
  {
   "cell_type": "code",
   "execution_count": null,
   "metadata": {},
   "outputs": [],
   "source": [
    "filename=\"Flickr8k_Dataset/Flicker8k_images/1258913059_07c613f7ff.jpg\"\n",
    "show_image_caption(filename)"
   ]
  }
 ],
 "metadata": {
  "kernelspec": {
   "display_name": "Python 3",
   "language": "python",
   "name": "python3"
  },
  "language_info": {
   "codemirror_mode": {
    "name": "ipython",
    "version": 3
   },
   "file_extension": ".py",
   "mimetype": "text/x-python",
   "name": "python",
   "nbconvert_exporter": "python",
   "pygments_lexer": "ipython3",
   "version": "3.12.5"
  }
 },
 "nbformat": 4,
 "nbformat_minor": 2
}
